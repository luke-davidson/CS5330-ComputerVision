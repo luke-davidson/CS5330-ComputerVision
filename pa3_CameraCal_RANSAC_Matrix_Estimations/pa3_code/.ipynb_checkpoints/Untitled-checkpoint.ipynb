{
 "cells": [
  {
   "cell_type": "code",
   "execution_count": 11,
   "id": "4ca4181f",
   "metadata": {},
   "outputs": [
    {
     "name": "stdout",
     "output_type": "stream",
     "text": [
      "[0 1 2 3 4 5 6 7 8]\n",
      "(9,)\n",
      "[0 1 2 3 4 5 6 7 8 1]\n",
      "(10,)\n"
     ]
    }
   ],
   "source": [
    "import numpy as np\n",
    "\n",
    "a = np.arange(9).reshape(9,)\n",
    "print(a)\n",
    "print(a.shape)\n",
    "\n",
    "a = np.append(a,[1])\n",
    "print(a)\n",
    "print(a.shape)"
   ]
  },
  {
   "cell_type": "code",
   "execution_count": 31,
   "id": "aca50ccd",
   "metadata": {},
   "outputs": [
    {
     "name": "stdout",
     "output_type": "stream",
     "text": [
      "(2,)\n",
      "1.4142135623730951\n",
      "2.8284271247461903\n"
     ]
    }
   ],
   "source": [
    "a = np.array([1,2])\n",
    "b = np.array([1,2])\n",
    "print(a.shape)\n",
    "\n",
    "for i in range(a.shape[0]):\n",
    "    l2_norm = np.linalg.norm([a[i],b[i]],)\n",
    "    print(l2_norm)"
   ]
  },
  {
   "cell_type": "code",
   "execution_count": 27,
   "id": "6b4956d8",
   "metadata": {},
   "outputs": [
    {
     "name": "stdout",
     "output_type": "stream",
     "text": [
      "[[ 0  1  2]\n",
      " [ 3  4  5]\n",
      " [ 6  7  8]\n",
      " [ 9 10 11]]\n",
      "(4, 3)\n",
      " \n",
      "4.5\n",
      "5.5\n",
      " \n",
      "[0 3 6 9]\n",
      "(4,)\n",
      " \n",
      "[ 1  4  7 10]\n",
      "(4,)\n",
      "[-4.5 -1.5  1.5  4.5]\n",
      "(4,)\n",
      " \n",
      "[-4.5 -1.5  1.5  4.5]\n",
      "(4,)\n"
     ]
    }
   ],
   "source": [
    "points = np.arange(12).reshape(4,3)\n",
    "print(points)\n",
    "print(points.shape)\n",
    "print(' ')\n",
    "\n",
    "Cu = np.mean(points[:,0])\n",
    "Cv = np.mean(points[:,1])\n",
    "\n",
    "print(Cu)\n",
    "print(Cv)\n",
    "print(' ')\n",
    "\n",
    "print(points[:,0])\n",
    "print(points[:,0].shape)\n",
    "print(' ')\n",
    "print(points[:,1])\n",
    "print(points[:,1].shape)\n",
    "\n",
    "u_Cu = points[:,0]-Cu\n",
    "v_Cv = points[:,1]-Cv\n",
    "\n",
    "print(u_Cu)\n",
    "print(u_Cu.shape)\n",
    "print(' ')\n",
    "print(v_Cv)\n",
    "print(v_Cv.shape)"
   ]
  },
  {
   "cell_type": "code",
   "execution_count": 41,
   "id": "7a252d7b",
   "metadata": {},
   "outputs": [
    {
     "name": "stdout",
     "output_type": "stream",
     "text": [
      "[[0 1 2]\n",
      " [3 4 5]\n",
      " [6 7 8]]\n",
      "(3, 3)\n",
      "[[0. 1. 2. 1.]\n",
      " [3. 4. 5. 1.]\n",
      " [6. 7. 8. 1.]]\n",
      "(3, 4)\n"
     ]
    }
   ],
   "source": [
    "a = np.arange(9).reshape(3,3)\n",
    "\n",
    "print(a)\n",
    "print(a.shape)\n",
    "\n",
    "ones = np.ones((3,1))\n",
    "\n",
    "a = np.append(a,ones,axis=1)\n",
    "print(a)\n",
    "print(a.shape)"
   ]
  },
  {
   "cell_type": "code",
   "execution_count": 44,
   "id": "5190e2f2",
   "metadata": {},
   "outputs": [
    {
     "name": "stdout",
     "output_type": "stream",
     "text": [
      "[[0 1 2]\n",
      " [3 4 5]]\n",
      " \n",
      "[[0 1 2]\n",
      " [3 4 5]]\n",
      " \n",
      "[[0 1 2]\n",
      " [3 4 5]\n",
      " [0 1 2]\n",
      " [3 4 5]]\n",
      "(4, 3)\n"
     ]
    }
   ],
   "source": [
    "a = np.arange(6).reshape(2,3)\n",
    "b = np.arange(6).reshape(2,3)\n",
    "\n",
    "print(a)\n",
    "print(' ')\n",
    "print(b)\n",
    "print(' ')\n",
    "\n",
    "c = np.append(a,b,axis=0)\n",
    "print(c)\n",
    "print(c.shape)"
   ]
  },
  {
   "cell_type": "code",
   "execution_count": 99,
   "id": "e6fd3b90",
   "metadata": {},
   "outputs": [
    {
     "name": "stdout",
     "output_type": "stream",
     "text": [
      "(array([ 1.33484692e+01, -1.34846923e+00, -1.15433316e-15]), array([[ 0.16476382,  0.79969966,  0.40824829],\n",
      "       [ 0.50577448,  0.10420579, -0.81649658],\n",
      "       [ 0.84678513, -0.59128809,  0.40824829]]))\n",
      "[ 1.33484692e+01 -1.34846923e+00 -1.15433316e-15]\n",
      "[1]\n",
      "[[ 0.50577448  0.10420579 -0.81649658]]\n",
      " \n",
      "[[0.]\n",
      " [0.]\n",
      " [0.]]\n",
      "[]\n",
      "2\n",
      "[1.42267074e+01 1.26522599e+00 4.97902781e-16]\n",
      " \n",
      " \n",
      " \n",
      "[[-0.13511895  0.90281571  0.40824829]\n",
      " [-0.49633514  0.29493179 -0.81649658]\n",
      " [-0.85755134 -0.31295213  0.40824829]]\n",
      "[1.42267074e+01 1.26522599e+00 4.97902781e-16]\n",
      "[[-0.4663281  -0.57099079 -0.67565348]\n",
      " [-0.78477477 -0.08545673  0.61386131]\n",
      " [-0.40824829  0.81649658 -0.40824829]]\n"
     ]
    }
   ],
   "source": [
    "a = np.arange(9).reshape(3,3)\n",
    "\n",
    "print(np.linalg.eig(a))\n",
    "\n",
    "eig_vals,eig_vecs = np.linalg.eig(a)\n",
    "print(eig_vals)\n",
    "\n",
    "min_index, = np.where(eig_vals == np.amin(eig_vals))\n",
    "print(min_index)\n",
    "\n",
    "M = eig_vecs[min_index,:]\n",
    "\n",
    "b = np.zeros((3,1))\n",
    "\n",
    "print(M)\n",
    "\n",
    "one,two,three,four = np.linalg.lstsq(a,b,rcond=None)\n",
    "\n",
    "print(' ')\n",
    "print(one)\n",
    "print(two)\n",
    "print(three)\n",
    "print(four)\n",
    "print(' ')\n",
    "print(' ')\n",
    "print(' ')\n",
    "\n",
    "\n",
    "u,s,v = np.linalg.svd(a)\n",
    "print(u)\n",
    "print(s)\n",
    "\n",
    "print(v)"
   ]
  },
  {
   "cell_type": "code",
   "execution_count": 115,
   "id": "d76498f1",
   "metadata": {},
   "outputs": [
    {
     "name": "stdout",
     "output_type": "stream",
     "text": [
      "[0 1 2 3 4 5 6 7]\n",
      "[6 4 2 7 1 0 3 5]\n",
      "0\n",
      "1\n",
      "2\n",
      "3\n",
      "4\n",
      "5\n",
      "6\n",
      "7\n",
      "8\n",
      "9\n"
     ]
    }
   ],
   "source": [
    "a = np.arange(8)\n",
    "\n",
    "print(a)\n",
    "print(np.random.choice(a,8,replace=False))\n",
    "\n",
    "count = 0\n",
    "\n",
    "for i in range(10):\n",
    "    print(count)\n",
    "    count += 1"
   ]
  },
  {
   "cell_type": "code",
   "execution_count": 127,
   "id": "10ada5a8",
   "metadata": {},
   "outputs": [
    {
     "name": "stdout",
     "output_type": "stream",
     "text": [
      "a:\n",
      "[[0 1]\n",
      " [2 3]\n",
      " [4 5]\n",
      " [6 7]\n",
      " [8 9]]\n",
      "(5, 2)\n",
      " \n",
      "b:\n",
      "[[10 11]\n",
      " [12 13]\n",
      " [14 15]\n",
      " [16 17]\n",
      " [18 19]]\n",
      "(5, 2)\n",
      " \n",
      "(1, 2)\n",
      "c:\n",
      "[[2 3]\n",
      " [6 7]]\n",
      "(2, 2)\n",
      " \n",
      "dist_mat:\n",
      "[[2 2]\n",
      " [2 2]]\n"
     ]
    },
    {
     "ename": "ValueError",
     "evalue": "matmul: Input operand 1 has a mismatch in its core dimension 0, with gufunc signature (n?,k),(k,m?)->(n?,m?) (size 5 is different from 2)",
     "output_type": "error",
     "traceback": [
      "\u001b[0;31m---------------------------------------------------------------------------\u001b[0m",
      "\u001b[0;31mValueError\u001b[0m                                Traceback (most recent call last)",
      "\u001b[0;32m<ipython-input-127-2341aec08935>\u001b[0m in \u001b[0;36m<module>\u001b[0;34m\u001b[0m\n\u001b[1;32m     25\u001b[0m \u001b[0mprint\u001b[0m\u001b[0;34m(\u001b[0m\u001b[0mdist_mat\u001b[0m\u001b[0;34m)\u001b[0m\u001b[0;34m\u001b[0m\u001b[0;34m\u001b[0m\u001b[0m\n\u001b[1;32m     26\u001b[0m \u001b[0;34m\u001b[0m\u001b[0m\n\u001b[0;32m---> 27\u001b[0;31m \u001b[0mdist\u001b[0m \u001b[0;34m=\u001b[0m \u001b[0ma\u001b[0m \u001b[0;34m@\u001b[0m \u001b[0mdist_mat\u001b[0m \u001b[0;34m@\u001b[0m \u001b[0mb\u001b[0m\u001b[0;34m\u001b[0m\u001b[0;34m\u001b[0m\u001b[0m\n\u001b[0m",
      "\u001b[0;31mValueError\u001b[0m: matmul: Input operand 1 has a mismatch in its core dimension 0, with gufunc signature (n?,k),(k,m?)->(n?,m?) (size 5 is different from 2)"
     ]
    }
   ],
   "source": [
    "a = np.arange(10).reshape(5,2)\n",
    "b = np.arange(10).reshape(5,2)\n",
    "b = b + 10\n",
    "\n",
    "print('a:')\n",
    "print(a)\n",
    "print(a.shape)\n",
    "print(' ')\n",
    "print('b:')\n",
    "print(b)\n",
    "print(b.shape)\n",
    "print(' ')\n",
    "\n",
    "a_index = np.array([[1,3]])\n",
    "print(a_index.shape)\n",
    "\n",
    "c = a[a_index,:].reshape(a_index.shape[1],2)\n",
    "print('c:')\n",
    "print(c)\n",
    "print(c.shape)\n",
    "\n",
    "dist_mat = np.array([[2,2],[2,2]])\n",
    "print(' ')\n",
    "print('dist_mat:')\n",
    "print(dist_mat)\n",
    "\n",
    "dist = a @ dist_mat @ b"
   ]
  },
  {
   "cell_type": "code",
   "execution_count": 129,
   "id": "d84ec0b8",
   "metadata": {},
   "outputs": [
    {
     "name": "stdout",
     "output_type": "stream",
     "text": [
      "######################################## ORIGINAL ########################################\n",
      " \n",
      "a:\n",
      "[[0 1]\n",
      " [2 3]\n",
      " [4 5]\n",
      " [6 7]\n",
      " [8 9]]\n",
      "shape: (5, 2)\n",
      " \n",
      "b:\n",
      "[[10 11]\n",
      " [12 13]\n",
      " [14 15]\n",
      " [16 17]\n",
      " [18 19]]\n",
      "shape: (5, 2)\n",
      " \n",
      "b.T:\n",
      "[[10 12 14 16 18]\n",
      " [11 13 15 17 19]]\n",
      "shape: (2, 5)\n",
      " \n",
      "dist:\n",
      "[  63.  325.  667. 1089. 1591.]\n",
      "shape: (5,)\n",
      " \n",
      "######################################## RESHAPE ########################################\n",
      " \n",
      "a_reshape:\n",
      "[[[0 1]]\n",
      "\n",
      " [[2 3]]\n",
      "\n",
      " [[4 5]]\n",
      "\n",
      " [[6 7]]\n",
      "\n",
      " [[8 9]]]\n",
      "shape: (5, 1, 2)\n",
      " \n",
      "b_reshape:\n",
      "[[[10]\n",
      "  [11]]\n",
      "\n",
      " [[12]\n",
      "  [13]]\n",
      "\n",
      " [[14]\n",
      "  [15]]\n",
      "\n",
      " [[16]\n",
      "  [17]]\n",
      "\n",
      " [[18]\n",
      "  [19]]]\n",
      "shape: (5, 2, 1)\n",
      " \n",
      "dist_new:\n",
      "[  63  325  667 1089 1591]\n",
      "shape: (5,)\n",
      " \n",
      "dist_original:\n",
      "[  63.  325.  667. 1089. 1591.]\n",
      "shape: (5,)\n",
      " \n",
      " \n",
      "Distance matrices match!\n",
      "[0 1]\n"
     ]
    }
   ],
   "source": [
    "import numpy as np\n",
    " \n",
    "a = np.arange(10).reshape(5,2)\n",
    "b = np.arange(10).reshape(5,2)\n",
    "b = b + 10\n",
    " \n",
    "print('######################################## ORIGINAL ########################################')\n",
    "print(' ')\n",
    "print('a:')\n",
    "print(a)\n",
    "print('shape: {}'.format(a.shape))\n",
    "print(' ')\n",
    "print('b:')\n",
    "print(b)\n",
    "print('shape: {}'.format(b.shape))\n",
    "print(' ')\n",
    "print('b.T:')\n",
    "print(b.T)\n",
    "print('shape: {}'.format(b.T.shape))\n",
    "print(' ')\n",
    " \n",
    "mult = np.array([[2,2],[3,3]])\n",
    " \n",
    "dist = np.zeros((a.shape[0],1))\n",
    " \n",
    "for i in range(a.shape[0]):\n",
    "    dist[i,:] = a[i,:] @ mult @ b.T[:,i]\n",
    " \n",
    "dist = dist.reshape(5,)\n",
    "print('dist:')\n",
    "print(dist)\n",
    "print('shape: {}'.format(dist.shape))\n",
    "print(' ')\n",
    " \n",
    "print('######################################## RESHAPE ########################################')\n",
    " \n",
    "a_reshape = a.reshape(5,1,2)\n",
    "b_reshape = b.reshape(5,2,1)\n",
    " \n",
    "print(' ')\n",
    "print('a_reshape:')\n",
    "print(a_reshape)\n",
    "print('shape: {}'.format(a_reshape.shape))\n",
    "print(' ')\n",
    "print('b_reshape:')\n",
    "print(b_reshape)\n",
    "print('shape: {}'.format(b_reshape.shape))\n",
    " \n",
    "dist_reshape = a_reshape @ mult @ b_reshape\n",
    " \n",
    "dist_reshape = dist_reshape.reshape(5,)\n",
    " \n",
    "print(' ')\n",
    "print('dist_new:')\n",
    "print(dist_reshape)\n",
    "print('shape: {}'.format(dist_reshape.shape))\n",
    "print(' ')\n",
    "print('dist_original:')\n",
    "print(dist)\n",
    "print('shape: {}'.format(dist.shape))\n",
    " \n",
    "assert np.all(dist_reshape == dist),'Distance matrices DO NOT match'\n",
    " \n",
    "print(' ')\n",
    "print(' ')\n",
    "print('Distance matrices match!')\n",
    "\n",
    "dist_index, = np.where(dist_reshape<500)\n",
    "print(dist_index)"
   ]
  },
  {
   "cell_type": "code",
   "execution_count": 130,
   "id": "070d5460",
   "metadata": {},
   "outputs": [
    {
     "name": "stdout",
     "output_type": "stream",
     "text": [
      "[-5 -4 -3 -2 -1  0  1  2  3  4]\n"
     ]
    }
   ],
   "source": [
    "a = np.arange(10)-5\n",
    "print(a)"
   ]
  },
  {
   "cell_type": "code",
   "execution_count": 140,
   "id": "ec1b1e08",
   "metadata": {},
   "outputs": [
    {
     "name": "stdout",
     "output_type": "stream",
     "text": [
      "[[ 0  1  2]\n",
      " [ 3  4  5]\n",
      " [ 6  7  8]\n",
      " [ 9 10 11]]\n",
      "[[[ 0  1  2]]\n",
      "\n",
      " [[ 3  4  5]]\n",
      "\n",
      " [[ 6  7  8]]\n",
      "\n",
      " [[ 9 10 11]]]\n",
      " \n",
      "c:\n",
      "[[[ 0  1  2]]\n",
      "\n",
      " [[ 3  4  5]]\n",
      "\n",
      " [[ 6  7  8]]\n",
      "\n",
      " [[ 9 10 11]]]\n",
      "(4, 1, 3)\n",
      " \n",
      "c:\n",
      "[[ 0  1  2]\n",
      " [ 3  4  5]\n",
      " [ 6  7  8]\n",
      " [ 9 10 11]]\n",
      "(4, 3)\n"
     ]
    }
   ],
   "source": [
    "a = np.arange(12).reshape(4,3)\n",
    "print(a)\n",
    "\n",
    "a = a.reshape(4,1,3)\n",
    "print(a)\n",
    "\n",
    "identity = np.array([[1,0,0],[0,1,0],[0,0,1]])\n",
    "\n",
    "c = a @ identity\n",
    "print(' ')\n",
    "print('c:')\n",
    "print(c)\n",
    "print(c.shape)\n",
    "c = c.reshape(4,3)\n",
    "print(' ')\n",
    "print('c:')\n",
    "print(c)\n",
    "print(c.shape)"
   ]
  },
  {
   "cell_type": "code",
   "execution_count": null,
   "id": "5b5708fc",
   "metadata": {},
   "outputs": [],
   "source": []
  }
 ],
 "metadata": {
  "kernelspec": {
   "display_name": "Python 3",
   "language": "python",
   "name": "python3"
  },
  "language_info": {
   "codemirror_mode": {
    "name": "ipython",
    "version": 3
   },
   "file_extension": ".py",
   "mimetype": "text/x-python",
   "name": "python",
   "nbconvert_exporter": "python",
   "pygments_lexer": "ipython3",
   "version": "3.6.13"
  }
 },
 "nbformat": 4,
 "nbformat_minor": 5
}

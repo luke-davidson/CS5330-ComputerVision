{
 "cells": [
  {
   "cell_type": "code",
   "execution_count": 41,
   "id": "bb517c6c",
   "metadata": {},
   "outputs": [
    {
     "name": "stdout",
     "output_type": "stream",
     "text": [
      "(1, 7)\n",
      "[[1 1 1 1 1 1 1]]\n",
      "all good\n"
     ]
    }
   ],
   "source": [
    "import numpy as np\n",
    "\n",
    "a = np.random.choice(10,10,replace=False)\n",
    "a = np.array([[1,1,1,1,1,1,1,]])\n",
    "print(a.shape)\n",
    "print(a)\n",
    "\n",
    "assert a.shape == (1,7), 'abfsaf'\n",
    "print('all good')"
   ]
  },
  {
   "cell_type": "code",
   "execution_count": 71,
   "id": "e9cf69ea",
   "metadata": {},
   "outputs": [
    {
     "name": "stdout",
     "output_type": "stream",
     "text": [
      "a: \n",
      "[[76.  8. 22.]\n",
      " [87. 70.  0.]\n",
      " [51. 65. 57.]\n",
      " [72. 10. 12.]]\n",
      "\n",
      "maxes: \n",
      "[[76.]\n",
      " [87.]\n",
      " [65.]\n",
      " [72.]]\n",
      "maxes shape: (4, 1)\n",
      "\n",
      "classes: [0 0 1 0]\n",
      "classes shape: (4,)\n",
      "\n"
     ]
    }
   ],
   "source": [
    "a = np.around(np.random.rand(4,3)*100)\n",
    "print('a: \\n{}\\n'.format(a))\n",
    "\n",
    "maxes = np.amax(a, axis=1).reshape(4,1)\n",
    "print('maxes: \\n{}'.format(maxes))\n",
    "print('maxes shape: {}\\n'.format(maxes.shape))\n",
    "\n",
    "row_num, classes = np.where(maxes == a)\n",
    "print('classes: {}'.format(classes))\n",
    "print('classes shape: {}\\n'.format(classes.shape))"
   ]
  },
  {
   "cell_type": "code",
   "execution_count": null,
   "id": "9071cbf5",
   "metadata": {},
   "outputs": [],
   "source": []
  }
 ],
 "metadata": {
  "kernelspec": {
   "display_name": "Python 3",
   "language": "python",
   "name": "python3"
  },
  "language_info": {
   "codemirror_mode": {
    "name": "ipython",
    "version": 3
   },
   "file_extension": ".py",
   "mimetype": "text/x-python",
   "name": "python",
   "nbconvert_exporter": "python",
   "pygments_lexer": "ipython3",
   "version": "3.6.13"
  }
 },
 "nbformat": 4,
 "nbformat_minor": 5
}
